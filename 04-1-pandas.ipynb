{
 "cells": [
  {
   "cell_type": "markdown",
   "metadata": {},
   "source": [
    "## Project 4-1 : Data Acquisition"
   ]
  },
  {
   "cell_type": "markdown",
   "metadata": {},
   "source": [
    "## Assignment Instructions\n",
    "\n",
    "### Description\n",
    "\n",
    "Some pandas and data acquisition problems.\n",
    "\n",
    "### Grading\n",
    "\n",
    "For grading purposes, we will clear all outputs from all your cells and then run them all from the top.  Please test your notebook in the same fashion before turning it in.\n",
    "\n",
    "### Submitting Your Solution\n",
    "\n",
    "To submit your notebook, first clear all the cells (this won't matter too much this time, but for larger data sets in the future, it will make the file smaller).  Then use the File->Download As->Notebook to obtain the notebook file.  Finally, submit the notebook file on Canvas."
   ]
  },
  {
   "cell_type": "markdown",
   "metadata": {},
   "source": [
    "### Helpful Resources\n",
    "There may be more posted in a Canvas announcement, so be sure to check there, as well.\n",
    "- [iloc and loc](https://www.shanelynn.ie/select-pandas-dataframe-rows-and-columns-using-iloc-loc-and-ix/)"
   ]
  },
  {
   "cell_type": "code",
   "execution_count": 3,
   "metadata": {},
   "outputs": [],
   "source": [
    "# Imports\n",
    "import numpy as np\n",
    "import pandas as pd\n",
    "from pandas import Series, DataFrame"
   ]
  },
  {
   "cell_type": "markdown",
   "metadata": {},
   "source": [
    "### Problem: pandas and text file acquisition (20 points)\n",
    "\n",
    "Included with this assignment is a text file named `plants.txt` (source: [USDA](https://plants.usda.gov/java/)).  **Read this file into a pandas DataFrame object** (10 points), then write code to **find the answers to the questions** that follow (5 points each).  There are many ways to answer each of these questions - see if you can answer each in `3` lines of code or less (this won't affect your grade).  Show us your code below."
   ]
  },
  {
   "cell_type": "markdown",
   "metadata": {},
   "source": [
    "---\n",
    "\n",
    "**Questions for Problem (Write answers in this cell):**\n",
    "\n",
    "---\n",
    "\n",
    "(a) What is the common name of the plant whose symbol (in the Plants database) is 'ECAP'?\n",
    "\n",
    "\n",
    "\n",
    "(b) How many plants are listed in the Agavaceae family?\n",
    "\n",
    "(c) How many different family names are there (ignoring missing/null family names)?\n",
    "<br>**Note:** There are two acceptable answers to this questions that differ by 1.\n",
    "\n",
    "\n",
    "(d) How many plants have the term 'vulgaris' in their scientific name?\n"
   ]
  },
  {
   "cell_type": "code",
   "execution_count": 4,
   "metadata": {},
   "outputs": [],
   "source": [
    "# Your Code Here\n",
    "# Use the lecture notes to look through the data frame to properly answer the questions above!\n",
    "# Start by reading the plants file into a pandas dataframe\n"
   ]
  },
  {
   "cell_type": "markdown",
   "metadata": {},
   "source": [
    "### Questionnaire\n",
    "1) How long did you spend on this assignment?\n",
    "<br><br>\n",
    "2) What did you like about it? What did you not like about it?\n",
    "<br><br>\n",
    "3) Did you find any errors or is there anything you would like changed?\n",
    "<br><br>"
   ]
  },
  {
   "cell_type": "code",
   "execution_count": null,
   "metadata": {},
   "outputs": [],
   "source": []
  }
 ],
 "metadata": {
  "kernelspec": {
   "display_name": "Python 3",
   "language": "python",
   "name": "python3"
  },
  "language_info": {
   "codemirror_mode": {
    "name": "ipython",
    "version": 3
   },
   "file_extension": ".py",
   "mimetype": "text/x-python",
   "name": "python",
   "nbconvert_exporter": "python",
   "pygments_lexer": "ipython3",
   "version": "3.6.5"
  }
 },
 "nbformat": 4,
 "nbformat_minor": 2
}
