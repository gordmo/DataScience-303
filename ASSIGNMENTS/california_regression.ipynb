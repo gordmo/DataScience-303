{
 "cells": [
  {
   "cell_type": "markdown",
   "metadata": {
    "id": "R7ayk7SSChm5"
   },
   "source": [
    "## California Regression Activity \n",
    "\n",
    "### Description\n",
    "\n",
    "Practice linear regressions\n",
    "\n",
    "### Grading\n",
    "\n",
    "For grading purposes, we will clear all outputs from all your cells and then run them all from the top.  Please test your notebook in the same fashion before turning it in.\n",
    "\n",
    "### Submitting Your Solution\n",
    "\n",
    "To submit your notebook, first clear all the cells (this won't matter too much this time, but for larger data sets in the future, it will make the file smaller).  Then use the File->Download As->Notebook to obtain the notebook file.  Finally, submit the notebook file on Canvas"
   ]
  },
  {
   "cell_type": "code",
   "execution_count": 1,
   "metadata": {
    "id": "J_Uj4Af6C2gF"
   },
   "outputs": [],
   "source": [
    "import numpy as np\n",
    "import pandas as pd\n",
    "import sklearn as sk\n",
    "import sklearn.datasets\n",
    "\n",
    "from sklearn.linear_model import LinearRegression\n",
    "from sklearn.model_selection import train_test_split\n",
    "from pandas import DataFrame"
   ]
  },
  {
   "cell_type": "markdown",
   "metadata": {
    "id": "0TMV_V10ErN6"
   },
   "source": [
    "## Procedure\n",
    "\n",
    "For this activity, you are going to make an initial guess or hypothesis about which features best represent the California dataset. You are first going to perform a regression of just a subset of the features you choose, then you are going to perform a regression with all of the features.  The steps for performing a linear regression with sciKit learn are as follows: \n",
    " 1. Load Data (Which includes separating the data into X and y)\n",
    " 2.Do some initial visualizations (e.g., scatter plots or visualizations with 2 or 3 features or a feature vs. the target, maybe some histograms).\n",
    " 3. Split data using train_test_split()\n",
    " 4. Create lr object\n",
    " 5. Train the lr model\n",
    " 6. Test the lr model\n",
    " \n",
    "Note: You do NOT need to do final visualizations like when we used simulated data.\n",
    "\n",
    "Compare the results of both models and discuss why you think one performed better than the other."
   ]
  },
  {
   "cell_type": "markdown",
   "metadata": {},
   "source": [
    "### Load the California Housing Dataset"
   ]
  },
  {
   "cell_type": "code",
   "execution_count": 2,
   "metadata": {},
   "outputs": [],
   "source": [
    "from sklearn.datasets import fetch_california_housing    \n",
    "housing = fetch_california_housing()\n",
    "data = pd.DataFrame(data=housing.data, columns=housing.feature_names)"
   ]
  },
  {
   "cell_type": "markdown",
   "metadata": {
    "id": "tvtBcf0dLioo"
   },
   "source": [
    "### Hypothesis\n",
    "\n",
    "What is your hypothesis?\n",
    "\n",
    "Answer: "
   ]
  },
  {
   "cell_type": "code",
   "execution_count": null,
   "metadata": {
    "id": "NFISzPn9GiEF"
   },
   "outputs": [],
   "source": [
    "#Load dataset\n",
    "X = data\n",
    "y = housing.target\n",
    "\n",
    "#Split data into testing and training \n",
    "X_train, X_test, y_train, y_test = train_test_split(X, y, test_size=0.2)\n"
   ]
  },
  {
   "cell_type": "code",
   "execution_count": null,
   "metadata": {
    "id": "M2WmeccIGsLc"
   },
   "outputs": [],
   "source": [
    "#Create lr object\n",
    "lr = LinearRegression()\n",
    "\n",
    "#Train model\n",
    "lr.fit(X_train, y_train)\n",
    "\n",
    "#Test model \n",
    "lr.score(X_test, y_test)"
   ]
  },
  {
   "cell_type": "markdown",
   "metadata": {
    "id": "Sm0klnWiLvlM"
   },
   "source": [
    "### Full Dataset"
   ]
  },
  {
   "cell_type": "code",
   "execution_count": null,
   "metadata": {
    "id": "1tIVB1qILzVo"
   },
   "outputs": [],
   "source": [
    "#Load dataset\n",
    "X =\n",
    "y = \n",
    "\n",
    "#Split data into testing and training \n",
    "\n"
   ]
  },
  {
   "cell_type": "code",
   "execution_count": null,
   "metadata": {
    "id": "9xmrXL_bLz9E"
   },
   "outputs": [],
   "source": [
    "#Create lr object\n",
    "\n",
    "#Train model\n",
    "\n",
    "#Test model "
   ]
  },
  {
   "cell_type": "markdown",
   "metadata": {
    "id": "u7-Ea2mdL1S9"
   },
   "source": [
    "### Discussion\n",
    "\n",
    "Which result is better, and why?\n",
    "\n",
    "Answer: "
   ]
  },
  {
   "cell_type": "code",
   "execution_count": null,
   "metadata": {},
   "outputs": [],
   "source": []
  }
 ],
 "metadata": {
  "colab": {
   "authorship_tag": "ABX9TyO3tMFfLgAAcIdO9p72tTeo",
   "collapsed_sections": [],
   "name": "boston_regression.ipynb",
   "provenance": []
  },
  "kernelspec": {
   "display_name": "Python 3 (ipykernel)",
   "language": "python",
   "name": "python3"
  },
  "language_info": {
   "codemirror_mode": {
    "name": "ipython",
    "version": 3
   },
   "file_extension": ".py",
   "mimetype": "text/x-python",
   "name": "python",
   "nbconvert_exporter": "python",
   "pygments_lexer": "ipython3",
   "version": "3.9.15"
  },
  "vscode": {
   "interpreter": {
    "hash": "f8f591c62df419ee7137d10533b2bbd9b5310e464e752dbc1d72b7e3d7395e16"
   }
  }
 },
 "nbformat": 4,
 "nbformat_minor": 1
}
