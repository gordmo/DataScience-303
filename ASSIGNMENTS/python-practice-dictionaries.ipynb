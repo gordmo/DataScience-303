{
 "cells": [
  {
   "cell_type": "code",
   "execution_count": null,
   "metadata": {},
   "outputs": [],
   "source": [
    "# Gordon Moore\n",
    "# 08-21-2023"
   ]
  },
  {
   "cell_type": "code",
   "execution_count": 1,
   "metadata": {},
   "outputs": [],
   "source": [
    "#function to sort a list by each keys length ['one', 'two', 'three', 'six'] -> { 3: ['one', 'six', 'two'], 5: ['three'] }\n",
    "def sort_dictionary(list):\n",
    "    new_dict = {}\n",
    "    for item in list:\n",
    "        if len(item) in new_dict:\n",
    "            new_dict[len(item)].append(item)\n",
    "        else:\n",
    "            new_dict[len(item)] = [item]\n",
    "    return new_dict\n",
    "        "
   ]
  },
  {
   "cell_type": "code",
   "execution_count": 2,
   "metadata": {},
   "outputs": [
    {
     "name": "stdout",
     "output_type": "stream",
     "text": [
      "{3: ['one', 'two', 'six'], 5: ['three']}\n"
     ]
    }
   ],
   "source": [
    "list = ['one', 'two', 'three', 'six']\n",
    "print(sort_dictionary(list))"
   ]
  }
 ],
 "metadata": {
  "kernelspec": {
   "display_name": "Python 3",
   "language": "python",
   "name": "python3"
  },
  "language_info": {
   "codemirror_mode": {
    "name": "ipython",
    "version": 3
   },
   "file_extension": ".py",
   "mimetype": "text/x-python",
   "name": "python",
   "nbconvert_exporter": "python",
   "pygments_lexer": "ipython3",
   "version": "3.10.11"
  },
  "orig_nbformat": 4
 },
 "nbformat": 4,
 "nbformat_minor": 2
}
