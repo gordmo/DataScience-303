{
 "cells": [
  {
   "cell_type": "markdown",
   "metadata": {},
   "source": [
    "## Project 4-2 : Data Acquisition SQL"
   ]
  },
  {
   "cell_type": "markdown",
   "metadata": {},
   "source": [
    "## Assignment Instructions\n",
    "\n",
    "### Description\n",
    "\n",
    "Some SQL problems.\n",
    "\n",
    "### Grading\n",
    "\n",
    "For grading purposes, we will clear all outputs from all your cells and then run them all from the top.  Please test your notebook in the same fashion before turning it in.\n",
    "\n",
    "### Submitting Your Solution\n",
    "\n",
    "To submit your notebook, first clear all the cells (this won't matter too much this time, but for larger data sets in the future, it will make the file smaller).  Then use the File->Download As->Notebook to obtain the notebook file.  Finally, submit the notebook file on Canvas."
   ]
  },
  {
   "cell_type": "code",
   "execution_count": 4,
   "metadata": {},
   "outputs": [],
   "source": [
    "import numpy as np\n",
    "import pandas as pd\n",
    "from pandas import Series, DataFrame\n",
    "from sqlalchemy import create_engine, inspect"
   ]
  },
  {
   "cell_type": "markdown",
   "metadata": {},
   "source": [
    "### Problem: SQL (50 points)\n",
    "\n",
    "Use the csci303 database downloaded in class and code provided (12-SQL_New) to answer the following questions.  Note that you can answer every one of these questions just with single SQL queries, but you are free to instead pull data into pandas and answer the questions that way, or use multiple queries, etc.\n",
    "\n",
    "The data you'll be working with is from the [Bureau of Labor Statistics](https://www.bls.gov/emp/documentation/education-training-system.htm).\n",
    "<br>There are three tables:\n",
    "- `occupation_codes` provides a mapping between two different organization's occupation codes and titles.  You'll need this table to lookup occupation codes for the other two tables.\n",
    "- `occupation_attainments` gives the percentages of workers (aged 25 or older) in each occupation (in 2014-2015) who had attained a particular level of education.\n",
    "- `occupation_assignments` gives requirements for each occupation in terms of education, experience, and on-the-job training.\n",
    "\n",
    "The code to inspect the names and types of the columns in thses tables is given below. Feel free to comment this out once you get a feel for the table structures."
   ]
  },
  {
   "cell_type": "markdown",
   "metadata": {},
   "source": [
    "## SET UP\n",
    "\n",
    "To set up we have to create an inspector on the database to get the information we need! To do so we will follow these steps:\n",
    "1. Create a Database variable, this holds the name of the database you downloaded for this assignment!\n",
    "2. Create an inspector object and create_engine on the database object from # 1\n",
    "3. Print out information from the database to gain a better understanding of what it contains!"
   ]
  },
  {
   "cell_type": "markdown",
   "metadata": {},
   "source": [
    "---\n",
    "\n",
    "**Questions for Set Up (Edit this cell):**\n",
    "\n",
    "---\n",
    "\n",
    "(a) What is the variable type of the acs_code column?\n",
    "\n",
    "acs_code is an integer type\n",
    "\n",
    "(b) What does the 'Real' column type mean?\n",
    "\n",
    "It means that the value is an approximate\n",
    "\n",
    "(c) What column(s) are shared amongst the three tables? This is how they are related!!\n",
    "\n",
    "They all have a soc_code"
   ]
  },
  {
   "cell_type": "code",
   "execution_count": 5,
   "metadata": {},
   "outputs": [
    {
     "name": "stdout",
     "output_type": "stream",
     "text": [
      "Table name:  occupation_assignments\n",
      "Column name: soc_code: TEXT\n",
      "Column name: education: TEXT\n",
      "Column name: experience: TEXT\n",
      "Column name: on_the_job: TEXT\n",
      "\n",
      "Table name:  occupation_attainments\n",
      "Column name: soc_code: TEXT\n",
      "Column name: less_than_hs: REAL\n",
      "Column name: hs_or_equivalent: REAL\n",
      "Column name: some_college: REAL\n",
      "Column name: associates: REAL\n",
      "Column name: bachelors: REAL\n",
      "Column name: masters: REAL\n",
      "Column name: doctoral_or_professional: REAL\n",
      "\n",
      "Table name:  occupation_codes\n",
      "Column name: sort_order: INTEGER\n",
      "Column name: soc_code: TEXT\n",
      "Column name: soc_title: TEXT\n",
      "Column name: acs_code: INTEGER\n",
      "Column name: acs_title: TEXT\n",
      "\n"
     ]
    }
   ],
   "source": [
    "#FINISH THIS CODE\n",
    "\n",
    "dburi = 'sqlite:///csci303.sqlite3' # Data base connection!\n",
    "inspector = inspect(create_engine(dburi)) # Here we have created an inspector to take a look at the db!\n",
    "\n",
    "tables = list(filter(lambda name: \"occupation\" in name, inspector.get_table_names()))\n",
    "\n",
    "# Loop through the tables list and print all of the table names and columns\n",
    "for table in tables:\n",
    "    print(\"Table name: \", table) # Print the table name (table)\n",
    "    for column in inspector.get_columns(table): # Print the column name and type, think of the column as a dataframe, column['xxx']\n",
    "         print(\"Column name: %s: %s\" % (column['name'], column['type'])) # TODO enter in what you want from the columns\n",
    "    print()"
   ]
  },
  {
   "cell_type": "markdown",
   "metadata": {},
   "source": [
    "---\n",
    "\n",
    "**Questions for Problem 2 (Edit this cell):**\n",
    "\n",
    "---\n",
    "\n",
    "(a) What are the SOC and ACS codes for 'Database administrators ' - (this may have a space at the end)?\n",
    "\n",
    "The soc_code is 15-1141 and the acs_code is 1060\n",
    "\n",
    "(b) How many SOC occupation titles are there grouped under the ACS title 'Postsecondary teachers'?\n",
    "\n",
    "There are 38 occupation titles with a ACS title of 'Postsecondary teachers'\n",
    "\n",
    "(c) How much education and prior experience do you typically need to become a software developer?\n",
    "\n",
    "According to the database you need a bachelors degree and no prior experience\n",
    "\n",
    "(d) What SOC occupation has the highest percentage of doctoral or professional degree holders?\n",
    "\n",
    "The occupation with the highest percentage of doctoral or professional degrees is a podiatrist\n",
    "\n",
    "EXTRA CREDIT: (5pts) What acs_title has the longest length? (There are two right answers!)"
   ]
  },
  {
   "cell_type": "code",
   "execution_count": 6,
   "metadata": {},
   "outputs": [
    {
     "ename": "AttributeError",
     "evalue": "'OptionEngine' object has no attribute 'execute'",
     "output_type": "error",
     "traceback": [
      "\u001b[1;31m---------------------------------------------------------------------------\u001b[0m",
      "\u001b[1;31mAttributeError\u001b[0m                            Traceback (most recent call last)",
      "\u001b[1;32mc:\\Users\\boon\\Desktop\\code\\DataScience-303\\PROJECTS\\04-2-SQL.ipynb Cell 9\u001b[0m line \u001b[0;36m7\n\u001b[0;32m      <a href='vscode-notebook-cell:/c%3A/Users/boon/Desktop/code/DataScience-303/PROJECTS/04-2-SQL.ipynb#X11sZmlsZQ%3D%3D?line=3'>4</a>\u001b[0m pd\u001b[39m.\u001b[39mDataFrame(inspector\u001b[39m.\u001b[39mget_columns(\u001b[39m'\u001b[39m\u001b[39moccupation_codes\u001b[39m\u001b[39m'\u001b[39m))\n\u001b[0;32m      <a href='vscode-notebook-cell:/c%3A/Users/boon/Desktop/code/DataScience-303/PROJECTS/04-2-SQL.ipynb#X11sZmlsZQ%3D%3D?line=5'>6</a>\u001b[0m \u001b[39m#part A\u001b[39;00m\n\u001b[1;32m----> <a href='vscode-notebook-cell:/c%3A/Users/boon/Desktop/code/DataScience-303/PROJECTS/04-2-SQL.ipynb#X11sZmlsZQ%3D%3D?line=6'>7</a>\u001b[0m pd\u001b[39m.\u001b[39;49mread_sql_query(\u001b[39m\"\u001b[39;49m\u001b[39mSELECT * FROM occupation_codes WHERE soc_title=\u001b[39;49m\u001b[39m'\u001b[39;49m\u001b[39mDatabase administrators \u001b[39;49m\u001b[39m'\u001b[39;49m\u001b[39m\"\u001b[39;49m, dburi)\n\u001b[0;32m      <a href='vscode-notebook-cell:/c%3A/Users/boon/Desktop/code/DataScience-303/PROJECTS/04-2-SQL.ipynb#X11sZmlsZQ%3D%3D?line=8'>9</a>\u001b[0m \u001b[39m#part B\u001b[39;00m\n\u001b[0;32m     <a href='vscode-notebook-cell:/c%3A/Users/boon/Desktop/code/DataScience-303/PROJECTS/04-2-SQL.ipynb#X11sZmlsZQ%3D%3D?line=9'>10</a>\u001b[0m pd\u001b[39m.\u001b[39mread_sql_query(\u001b[39m\"\u001b[39m\u001b[39mSELECT * FROM occupation_codes WHERE acs_title=\u001b[39m\u001b[39m'\u001b[39m\u001b[39mPostsecondary teachers\u001b[39m\u001b[39m'\u001b[39m\u001b[39m\"\u001b[39m, dburi)\n",
      "File \u001b[1;32m~\\AppData\\Local\\Packages\\PythonSoftwareFoundation.Python.3.10_qbz5n2kfra8p0\\LocalCache\\local-packages\\Python310\\site-packages\\pandas\\io\\sql.py:397\u001b[0m, in \u001b[0;36mread_sql_query\u001b[1;34m(sql, con, index_col, coerce_float, params, parse_dates, chunksize, dtype)\u001b[0m\n\u001b[0;32m    339\u001b[0m \u001b[39m\u001b[39m\u001b[39m\"\"\"\u001b[39;00m\n\u001b[0;32m    340\u001b[0m \u001b[39mRead SQL query into a DataFrame.\u001b[39;00m\n\u001b[0;32m    341\u001b[0m \n\u001b[1;32m   (...)\u001b[0m\n\u001b[0;32m    394\u001b[0m \u001b[39mparameter will be converted to UTC.\u001b[39;00m\n\u001b[0;32m    395\u001b[0m \u001b[39m\"\"\"\u001b[39;00m\n\u001b[0;32m    396\u001b[0m pandas_sql \u001b[39m=\u001b[39m pandasSQL_builder(con)\n\u001b[1;32m--> 397\u001b[0m \u001b[39mreturn\u001b[39;00m pandas_sql\u001b[39m.\u001b[39;49mread_query(\n\u001b[0;32m    398\u001b[0m     sql,\n\u001b[0;32m    399\u001b[0m     index_col\u001b[39m=\u001b[39;49mindex_col,\n\u001b[0;32m    400\u001b[0m     params\u001b[39m=\u001b[39;49mparams,\n\u001b[0;32m    401\u001b[0m     coerce_float\u001b[39m=\u001b[39;49mcoerce_float,\n\u001b[0;32m    402\u001b[0m     parse_dates\u001b[39m=\u001b[39;49mparse_dates,\n\u001b[0;32m    403\u001b[0m     chunksize\u001b[39m=\u001b[39;49mchunksize,\n\u001b[0;32m    404\u001b[0m     dtype\u001b[39m=\u001b[39;49mdtype,\n\u001b[0;32m    405\u001b[0m )\n",
      "File \u001b[1;32m~\\AppData\\Local\\Packages\\PythonSoftwareFoundation.Python.3.10_qbz5n2kfra8p0\\LocalCache\\local-packages\\Python310\\site-packages\\pandas\\io\\sql.py:1560\u001b[0m, in \u001b[0;36mSQLDatabase.read_query\u001b[1;34m(self, sql, index_col, coerce_float, parse_dates, params, chunksize, dtype)\u001b[0m\n\u001b[0;32m   1512\u001b[0m \u001b[39m\u001b[39m\u001b[39m\"\"\"\u001b[39;00m\n\u001b[0;32m   1513\u001b[0m \u001b[39mRead SQL query into a DataFrame.\u001b[39;00m\n\u001b[0;32m   1514\u001b[0m \n\u001b[1;32m   (...)\u001b[0m\n\u001b[0;32m   1556\u001b[0m \n\u001b[0;32m   1557\u001b[0m \u001b[39m\"\"\"\u001b[39;00m\n\u001b[0;32m   1558\u001b[0m args \u001b[39m=\u001b[39m _convert_params(sql, params)\n\u001b[1;32m-> 1560\u001b[0m result \u001b[39m=\u001b[39m \u001b[39mself\u001b[39;49m\u001b[39m.\u001b[39;49mexecute(\u001b[39m*\u001b[39;49margs)\n\u001b[0;32m   1561\u001b[0m columns \u001b[39m=\u001b[39m result\u001b[39m.\u001b[39mkeys()\n\u001b[0;32m   1563\u001b[0m \u001b[39mif\u001b[39;00m chunksize \u001b[39mis\u001b[39;00m \u001b[39mnot\u001b[39;00m \u001b[39mNone\u001b[39;00m:\n",
      "File \u001b[1;32m~\\AppData\\Local\\Packages\\PythonSoftwareFoundation.Python.3.10_qbz5n2kfra8p0\\LocalCache\\local-packages\\Python310\\site-packages\\pandas\\io\\sql.py:1405\u001b[0m, in \u001b[0;36mSQLDatabase.execute\u001b[1;34m(self, *args, **kwargs)\u001b[0m\n\u001b[0;32m   1403\u001b[0m \u001b[39mdef\u001b[39;00m \u001b[39mexecute\u001b[39m(\u001b[39mself\u001b[39m, \u001b[39m*\u001b[39margs, \u001b[39m*\u001b[39m\u001b[39m*\u001b[39mkwargs):\n\u001b[0;32m   1404\u001b[0m \u001b[39m    \u001b[39m\u001b[39m\"\"\"Simple passthrough to SQLAlchemy connectable\"\"\"\u001b[39;00m\n\u001b[1;32m-> 1405\u001b[0m     \u001b[39mreturn\u001b[39;00m \u001b[39mself\u001b[39;49m\u001b[39m.\u001b[39;49mconnectable\u001b[39m.\u001b[39;49mexecution_options()\u001b[39m.\u001b[39;49mexecute(\u001b[39m*\u001b[39margs, \u001b[39m*\u001b[39m\u001b[39m*\u001b[39mkwargs)\n",
      "\u001b[1;31mAttributeError\u001b[0m: 'OptionEngine' object has no attribute 'execute'"
     ]
    }
   ],
   "source": [
    "# YOUR CODE HERE\n",
    "# pd.DataFrame(inspector.get_columns('occupation_codes'))\n",
    "\n",
    "# #part A\n",
    "# pd.read_sql_query(\"SELECT * FROM occupation_codes WHERE soc_title='Database administrators '\", dburi)\n",
    "\n",
    "# #part B\n",
    "# pd.read_sql_query(\"SELECT * FROM occupation_codes WHERE acs_title='Postsecondary teachers'\", dburi)\n",
    "\n",
    "# #part C\n",
    "# pd.read_sql_query(\"SELECT * FROM occupation_codes WHERE lower(acs_title) LIKE '%%software'\", dburi)\n",
    "# # the soc_code for a software developer is either 15-1132 or 15-1133\n",
    "# pd.DataFrame(inspector.get_columns('occupation_assignments'))\n",
    "# pd.read_sql_query(\"SELECT * FROM occupation_assignments WHERE soc_code='15-1133'\", dburi)\n",
    "\n",
    "# #part D\n",
    "# pd.DataFrame(inspector.get_columns('occupation_attainments'))\n",
    "# pd.read_sql_query(\"SELECT * FROM occupation_attainments ORDER BY doctoral_or_professional\", dburi)\n",
    "# # soc_code 29-1081 has the most doctoral or profesional degree holders at 99.09998\n",
    "\n",
    "# Extra credit\n",
    "# pd.Dataframe(inspector.get_columns('occupation_assignments'))\n",
    "# pd.read_sql_query(\"SELECT acs_title FROM occupation_assignments ORDER BY length(acs_title) DESC\", dburi)\n",
    "# 'Miscellaneous food preparation and serving related workers, including dining room and cafeteria attendants and bartender helpers' is the longest acs_title\n",
    "\n",
    "pd.DataFrame(inspector.get_columns('occupation_codes'))\n",
    "pd.read_sql_query(\"SELECT * FROM occupation_codes WHERE soc_code='29-1081'\", dburi)"
   ]
  },
  {
   "cell_type": "markdown",
   "metadata": {},
   "source": [
    "### Questionnaire\n",
    "1) How long did you spend on this assignment? Roughly 2.5 hours\n",
    "<br><br>\n",
    "2) What did you like about it? What did you not like about it? Im taking DB management right now so it was cool to actually be able to access a SQL database using stuff from another class in python.\n",
    "<br><br>\n",
    "3) Did you find any errors or is there anything you would like changed? None that I could find.\n",
    "<br><br>"
   ]
  },
  {
   "cell_type": "code",
   "execution_count": null,
   "metadata": {},
   "outputs": [],
   "source": []
  }
 ],
 "metadata": {
  "kernelspec": {
   "display_name": "Python 3 (ipykernel)",
   "language": "python",
   "name": "python3"
  },
  "language_info": {
   "codemirror_mode": {
    "name": "ipython",
    "version": 3
   },
   "file_extension": ".py",
   "mimetype": "text/x-python",
   "name": "python",
   "nbconvert_exporter": "python",
   "pygments_lexer": "ipython3",
   "version": "3.10.11"
  }
 },
 "nbformat": 4,
 "nbformat_minor": 2
}
