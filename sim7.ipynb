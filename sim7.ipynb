{
 "cells": [
  {
   "cell_type": "code",
   "execution_count": 6,
   "metadata": {},
   "outputs": [
    {
     "ename": "ModuleNotFoundError",
     "evalue": "No module named 'numpy'",
     "output_type": "error",
     "traceback": [
      "\u001b[0;31m---------------------------------------------------------------------------\u001b[0m",
      "\u001b[0;31mModuleNotFoundError\u001b[0m                       Traceback (most recent call last)",
      "\u001b[1;32m/Users/gordonmoore/Documents/school/DataScience-303/sim7.ipynb Cell 1\u001b[0m line \u001b[0;36m1\n\u001b[0;32m----> <a href='vscode-notebook-cell:/Users/gordonmoore/Documents/school/DataScience-303/sim7.ipynb#W0sZmlsZQ%3D%3D?line=0'>1</a>\u001b[0m \u001b[39mimport\u001b[39;00m \u001b[39mnumpy\u001b[39;00m \u001b[39mas\u001b[39;00m \u001b[39mnp\u001b[39;00m\n\u001b[1;32m      <a href='vscode-notebook-cell:/Users/gordonmoore/Documents/school/DataScience-303/sim7.ipynb#W0sZmlsZQ%3D%3D?line=1'>2</a>\u001b[0m \u001b[39mimport\u001b[39;00m \u001b[39mmatplotlib\u001b[39;00m\u001b[39m.\u001b[39;00m\u001b[39mpyplot\u001b[39;00m \u001b[39mas\u001b[39;00m \u001b[39mplt\u001b[39;00m\n\u001b[1;32m      <a href='vscode-notebook-cell:/Users/gordonmoore/Documents/school/DataScience-303/sim7.ipynb#W0sZmlsZQ%3D%3D?line=2'>3</a>\u001b[0m \u001b[39mfrom\u001b[39;00m \u001b[39mscipy\u001b[39;00m\u001b[39m.\u001b[39;00m\u001b[39mstats\u001b[39;00m \u001b[39mimport\u001b[39;00m hypergeom, binom\n",
      "\u001b[0;31mModuleNotFoundError\u001b[0m: No module named 'numpy'"
     ]
    }
   ],
   "source": [
    "import numpy as np\n",
    "import matplotlib.pyplot as plt\n",
    "from scipy.stats import hypergeom, binom"
   ]
  },
  {
   "cell_type": "code",
   "execution_count": null,
   "metadata": {},
   "outputs": [],
   "source": [
    "# Constants\n",
    "M = 32  # number of special cards\n",
    "n = 28  # number of cards dealt\n",
    "\n",
    "# Range of total cards\n",
    "N_values = np.arange(108, 501)\n",
    "\n",
    "# Calculate hypergeometric probabilities for P(X=10)\n",
    "hyper_probs = [hypergeom.pmf(10, N, M, n) for N in N_values]\n",
    "\n",
    "# Calculate binomial approximations for P(X=10)\n",
    "p = M / N_values[0]  # probability of drawing a special card from the original deck\n",
    "binom_probs = [binom.pmf(10, n, p) for N in N_values]\n",
    "\n",
    "# Calculate the differences\n",
    "differences = np.abs(np.array(hyper_probs) - np.array(binom_probs))\n",
    "\n",
    "# Plotting\n",
    "plt.figure(figsize=(10,6))\n",
    "plt.plot(N_values, differences, '-o', markersize=4)\n",
    "plt.title(\"Difference between Exact Hypergeometric and Binomial Approximation\")\n",
    "plt.xlabel(\"Number of Cards in Deck\")\n",
    "plt.ylabel(\"Difference in Probabilities\")\n",
    "plt.grid(True)\n",
    "plt.show()"
   ]
  },
  {
   "cell_type": "code",
   "execution_count": null,
   "metadata": {},
   "outputs": [],
   "source": [
    "from scipy.stats import binom, poisson, hypergeom, nbinom\n",
    "\n",
    "data_binom = binom.rvs(n=30, p=0.2, size=10000)\n",
    "plt.hist(data_binom, bins=np.arange(-0.5, 31.5, 1), alpha=0.7)\n",
    "plt.title(\"Binomial Distribution\")\n",
    "plt.show()"
   ]
  }
 ],
 "metadata": {
  "kernelspec": {
   "display_name": "base",
   "language": "python",
   "name": "python3"
  },
  "language_info": {
   "codemirror_mode": {
    "name": "ipython",
    "version": 3
   },
   "file_extension": ".py",
   "mimetype": "text/x-python",
   "name": "python",
   "nbconvert_exporter": "python",
   "pygments_lexer": "ipython3",
   "version": "3.10.12"
  },
  "orig_nbformat": 4
 },
 "nbformat": 4,
 "nbformat_minor": 2
}
